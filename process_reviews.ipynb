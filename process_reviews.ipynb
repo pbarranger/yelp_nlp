{
 "cells": [
  {
   "cell_type": "code",
   "execution_count": null,
   "metadata": {},
   "outputs": [],
   "source": [
    "import pandas as pd\n",
    "import csv\n",
    "df = pd.read_csv('yelp_business.csv')\n",
    "biz = df[df['categories'].str.contains(\"Restaurant\")]\n",
    "list_of_biz_ids = biz['business_id'].tolist()"
   ]
  },
  {
   "cell_type": "markdown",
   "metadata": {},
   "source": [
    "The below chunk will take over 20 minutes to run. When it is done you will have a review data set that has been subset for restaurants.\n",
    "\n",
    "**Make sure your python kernel is running in a screen socket before running**\n",
    "\n",
    "How to do that:\n",
    "1. Go into command line in you google cloud box\n",
    "2. Type: screen\n",
    "3. Initiate your jupyter notebook\n",
    "\n",
    "If you get diconnected from your cloud instance:\n",
    "1. Log into your google cloud instance\n",
    "2. Type: screen -r\n",
    "\n",
    "^ Will reattach you to your existing kernel "
   ]
  },
  {
   "cell_type": "code",
   "execution_count": null,
   "metadata": {},
   "outputs": [],
   "source": [
    "with open('reduced_reviews.csv', 'w') as output_file:\n",
    "    wo = csv.writer(output_file)\n",
    "    header = ['business_id', 'stars', 'text',]\n",
    "    wo.writerow(header) \n",
    "\n",
    "with open('yelp_review.csv', 'r') as f:\n",
    "    big_data = csv.reader(f)\n",
    "    i = 10\n",
    "    #iterate through each line\n",
    "    for line in big_data:\n",
    "        single_row = list(line)\n",
    "        if single_row[2] in list_of_biz_ids:\n",
    "            out_list = []\n",
    "            out_list.append(single_row[2])\n",
    "            out_list.append(single_row[3])\n",
    "            out_list.append(single_row[5])\n",
    "            with open('reduced_reviews.csv', 'a') as output_file:\n",
    "                wo = csv.writer(output_file)\n",
    "                wo.writerow(out_list)"
   ]
  },
  {
   "cell_type": "markdown",
   "metadata": {},
   "source": [
    "After this has run you can remove the yelp files you no longer need. "
   ]
  }
 ],
 "metadata": {
  "kernelspec": {
   "display_name": "Python 3",
   "language": "python",
   "name": "python3"
  },
  "language_info": {
   "codemirror_mode": {
    "name": "ipython",
    "version": 3
   },
   "file_extension": ".py",
   "mimetype": "text/x-python",
   "name": "python",
   "nbconvert_exporter": "python",
   "pygments_lexer": "ipython3",
   "version": "3.6.4"
  }
 },
 "nbformat": 4,
 "nbformat_minor": 2
}
