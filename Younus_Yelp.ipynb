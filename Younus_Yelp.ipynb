{
 "cells": [
  {
   "cell_type": "code",
   "execution_count": 14,
   "metadata": {},
   "outputs": [],
   "source": [
    "from __future__ import print_function\n",
    "from __future__ import division\n",
    "import collections\n",
    "import nltk\n",
    "import numpy as np\n",
    "import pandas as pd\n",
    "from sklearn.feature_extraction.text import CountVectorizer\n",
    "from nltk.tokenize.treebank import TreebankWordTokenizer\n",
    "\n",
    "from sklearn.feature_extraction.text import TfidfTransformer\n",
    "\n",
    "# Helper libraries\n",
    "from common import utils, vocabulary"
   ]
  },
  {
   "cell_type": "code",
   "execution_count": 5,
   "metadata": {},
   "outputs": [],
   "source": [
    "df = pd.read_csv('az_reduced_reviews.csv')"
   ]
  },
  {
   "cell_type": "code",
   "execution_count": 26,
   "metadata": {},
   "outputs": [
    {
     "data": {
      "text/plain": [
       "Index(['business_id', 'stars', 'text'], dtype='object')"
      ]
     },
     "execution_count": 26,
     "metadata": {},
     "output_type": "execute_result"
    }
   ],
   "source": [
    "df.columns"
   ]
  },
  {
   "cell_type": "code",
   "execution_count": 96,
   "metadata": {},
   "outputs": [],
   "source": [
    "biz_ids=df.groupby('business_id')\n",
    "x=0\n",
    "bizids={}\n",
    "for name,group in biz_ids:\n",
    "    #Processing restaurants that had more than three reviews. Number is up for debate.\n",
    "    if len(group)>3:\n",
    "        x+=1\n",
    "        bizname=\"train_id_\"+str(x)\n",
    "        #This dictionary maps train_ids variables to business id. Just search bizids[train_id_1]=business_id\n",
    "        bizids[bizname]=name\n",
    "        count_vect = CountVectorizer(stop_words='english')\n",
    "        X_train_counts = count_vect.fit_transform(group['text'])\n",
    "        tfidf_transformer = TfidfTransformer()\n",
    "        exec(bizname+'=tfidf_transformer.fit_transform(X_train_counts)')"
   ]
  },
  {
   "cell_type": "code",
   "execution_count": 95,
   "metadata": {},
   "outputs": [
    {
     "data": {
      "text/plain": [
       "<77x1378 sparse matrix of type '<class 'numpy.float64'>'\n",
       "\twith 3526 stored elements in Compressed Sparse Row format>"
      ]
     },
     "execution_count": 95,
     "metadata": {},
     "output_type": "execute_result"
    }
   ],
   "source": [
    "train_id_6"
   ]
  },
  {
   "cell_type": "code",
   "execution_count": 10,
   "metadata": {},
   "outputs": [
    {
     "data": {
      "text/plain": [
       "\"We always go to the chevo's in chandler which is delicious, the one in ahwatukee is different for some reason.  Ordered the chicken rolled tacos today there was a tiny lil piece of chicken in each one, so basically I had 3 rolled deep fried tortillas yuck! :( No flavor what so ever.  Also ordered carne asada taco the meat tasted old like it was cooked earlier and just thrown on the grill to get warm.  Very dissapointed!!\""
      ]
     },
     "execution_count": 10,
     "metadata": {},
     "output_type": "execute_result"
    }
   ],
   "source": [
    "df['text'][0]"
   ]
  },
  {
   "cell_type": "code",
   "execution_count": null,
   "metadata": {},
   "outputs": [],
   "source": []
  }
 ],
 "metadata": {
  "kernelspec": {
   "display_name": "Python 3",
   "language": "python",
   "name": "python3"
  },
  "language_info": {
   "codemirror_mode": {
    "name": "ipython",
    "version": 3
   },
   "file_extension": ".py",
   "mimetype": "text/x-python",
   "name": "python",
   "nbconvert_exporter": "python",
   "pygments_lexer": "ipython3",
   "version": "3.6.4"
  }
 },
 "nbformat": 4,
 "nbformat_minor": 2
}
