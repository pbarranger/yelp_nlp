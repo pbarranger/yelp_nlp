{
 "cells": [
  {
   "cell_type": "markdown",
   "metadata": {},
   "source": [
    "# Sentiment Analysis through BOW\n",
    "\n"
   ]
  },
  {
   "cell_type": "markdown",
   "metadata": {},
   "source": [
    "### Import needed packages"
   ]
  },
  {
   "cell_type": "code",
   "execution_count": 1,
   "metadata": {},
   "outputs": [],
   "source": [
    "import pandas as pd\n",
    "import numpy as np\n",
    "# import nltk\n",
    "# from nltk.corpus import stopwords\n",
    "from sklearn.naive_bayes import MultinomialNB\n",
    "from sklearn.metrics import accuracy_score\n",
    "from sklearn.model_selection import train_test_split\n",
    "from sklearn.feature_extraction.text import CountVectorizer\n",
    "from sklearn.pipeline import Pipeline\n",
    "from sklearn.linear_model import SGDClassifier\n",
    "from sklearn.feature_extraction.text import TfidfTransformer\n",
    "from sklearn.metrics import precision_recall_fscore_support as score\n",
    "import matplotlib.pyplot as plt\n"
   ]
  },
  {
   "cell_type": "markdown",
   "metadata": {},
   "source": [
    "Due to file size, before importing data you will need to navigate to the split_az folder in command line. Once there, run the following comand:\n",
    "\n",
    "**cat ??? > combined_az.csv**\n",
    "\n",
    "This will combine the three split files."
   ]
  },
  {
   "cell_type": "code",
   "execution_count": 2,
   "metadata": {},
   "outputs": [],
   "source": [
    "x_df = pd.read_csv('./split_az/combined_az.csv')"
   ]
  },
  {
   "cell_type": "code",
   "execution_count": 39,
   "metadata": {},
   "outputs": [
    {
     "name": "stdout",
     "output_type": "stream",
     "text": [
      "98.84980692599035\n"
     ]
    }
   ],
   "source": [
    "#calculate length of reviews\n",
    "rev_len = []\n",
    "n=0\n",
    "for i in range(len(x_df)):\n",
    "    rev_len.append(len(x_df.iloc[i][1].split()))\n",
    "    n += 1\n",
    "    \n",
    "print(sum(rev_len)/n)"
   ]
  },
  {
   "cell_type": "code",
   "execution_count": 49,
   "metadata": {},
   "outputs": [
    {
     "data": {
      "text/plain": [
       "(array([5.1171e+04, 9.8160e+04, 7.2811e+04, 5.1080e+04, 3.3865e+04,\n",
       "        2.4563e+04, 1.8098e+04, 1.2711e+04, 9.5130e+03, 7.3110e+03,\n",
       "        5.6800e+03, 4.2570e+03, 3.1470e+03, 2.5940e+03, 1.9970e+03,\n",
       "        1.6050e+03, 1.2470e+03, 9.3700e+02, 7.2600e+02, 6.6200e+02,\n",
       "        5.6400e+02, 4.3800e+02, 3.4400e+02, 2.8800e+02, 2.2600e+02,\n",
       "        2.1900e+02, 1.7100e+02, 1.2300e+02, 1.1400e+02, 9.0000e+01,\n",
       "        1.0600e+02, 7.3000e+01, 6.8000e+01, 7.3000e+01, 6.7000e+01,\n",
       "        7.7000e+01, 6.0000e+01, 3.5000e+01, 1.0000e+01, 4.0000e+00]),\n",
       " array([1.000e+00, 2.630e+01, 5.160e+01, 7.690e+01, 1.022e+02, 1.275e+02,\n",
       "        1.528e+02, 1.781e+02, 2.034e+02, 2.287e+02, 2.540e+02, 2.793e+02,\n",
       "        3.046e+02, 3.299e+02, 3.552e+02, 3.805e+02, 4.058e+02, 4.311e+02,\n",
       "        4.564e+02, 4.817e+02, 5.070e+02, 5.323e+02, 5.576e+02, 5.829e+02,\n",
       "        6.082e+02, 6.335e+02, 6.588e+02, 6.841e+02, 7.094e+02, 7.347e+02,\n",
       "        7.600e+02, 7.853e+02, 8.106e+02, 8.359e+02, 8.612e+02, 8.865e+02,\n",
       "        9.118e+02, 9.371e+02, 9.624e+02, 9.877e+02, 1.013e+03]),\n",
       " <a list of 40 Patch objects>)"
      ]
     },
     "execution_count": 49,
     "metadata": {},
     "output_type": "execute_result"
    },
    {
     "data": {
      "image/png": "[encoded data removed]",
      "text/plain": [
       "<matplotlib.figure.Figure at 0x7fec3928c898>"
      ]
     },
     "metadata": {},
     "output_type": "display_data"
    }
   ],
   "source": [
    "\n",
    "plt.hist(rev_len, bins=40)"
   ]
  },
  {
   "cell_type": "markdown",
   "metadata": {},
   "source": [
    "### Build Models"
   ]
  },
  {
   "cell_type": "code",
   "execution_count": 3,
   "metadata": {},
   "outputs": [],
   "source": [
    "#Split the data\n",
    "X_train, X_test, y_train, y_test = train_test_split(x_df.text, x_df.binary_stars, test_size=0.20, random_state=42)"
   ]
  },
  {
   "cell_type": "code",
   "execution_count": 5,
   "metadata": {},
   "outputs": [
    {
     "data": {
      "text/plain": [
       "0.9460626472729067"
      ]
     },
     "execution_count": 5,
     "metadata": {},
     "output_type": "execute_result"
    }
   ],
   "source": [
    "#Pipeline to build NB models\n",
    "\n",
    "text_clf = Pipeline([('vect', CountVectorizer(stop_words='english', min_df=5, ngram_range=(1, 2))),\n",
    "                     ('tfidf', TfidfTransformer()),  \n",
    "                     ('clf', MultinomialNB(alpha=0.1)),\n",
    "                    ])\n",
    "text_clf = text_clf.fit(X_train, y_train)\n",
    "predicted = text_clf.predict(X_test)\n",
    "np.mean(predicted == y_test)\n",
    "\n",
    "# 92.68% CountVectorizer(stop_words='english', min_df=5, ngram_range=(1, 2))\n",
    "# 94.67% w/ fit prior False\n",
    "# 94.60% w/ alpha = 0.1"
   ]
  },
  {
   "cell_type": "code",
   "execution_count": 6,
   "metadata": {},
   "outputs": [
    {
     "data": {
      "text/plain": [
       "0.9516266331100337"
      ]
     },
     "execution_count": 6,
     "metadata": {},
     "output_type": "execute_result"
    }
   ],
   "source": [
    "#Pipeline to build SVM models\n",
    "\n",
    "text_clf_svm = Pipeline([('vect', CountVectorizer(stop_words='english', min_df=5, ngram_range=(1, 2))),\n",
    "                         ('tfidf', TfidfTransformer()), \n",
    "                         ('clf-svm', SGDClassifier(loss='modified_huber', class_weight = 'balanced', penalty='l2', alpha=1e-4, max_iter=5, random_state=42)),\n",
    "                        ])\n",
    "\n",
    "text_clf_svm = text_clf_svm.fit(X_train, y_train)\n",
    "predicted_svm = text_clf_svm.predict(X_test)\n",
    "np.mean(predicted_svm == y_test)\n",
    "\n",
    "# 87.87% CountVectorizer(stop_words='english', min_df=5)\n",
    "# 92.3% SGDCClassifier class_weight = 'balanced' loss='hinge'\n",
    "# 93.3% SGDCClassifier class_weight = 'balanced' loss='modified_huber', alpha=1e-3\n",
    "# 95.16% SGDCClassifier class_weight = 'balanced' loss='modified_huber', alpha=1e-4"
   ]
  },
  {
   "cell_type": "code",
   "execution_count": 7,
   "metadata": {},
   "outputs": [],
   "source": [
    "#Build NBSVM predictions\n",
    "\n",
    "nb_pred_prob = text_clf.predict_proba(X_test)\n",
    "svm_pred_prob = text_clf_svm.predict_proba(X_test)\n",
    "\n",
    "best_pred = []\n",
    "for i in range(len(predicted)):\n",
    "    if max(svm_pred_prob[i]) > max(nb_pred_prob[i]):\n",
    "        best_pred.append(predicted_svm[i])\n",
    "    else:\n",
    "        best_pred.append(predicted[i])\n",
    "\n"
   ]
  },
  {
   "cell_type": "code",
   "execution_count": null,
   "metadata": {},
   "outputs": [],
   "source": [
    "#Print out examples of when the prediction is changed\n",
    "for i in range(len(predicted)):\n",
    "    if max(svm_pred_prob[i]) > max(nb_pred_prob[i]) and predicted_svm[i] != predicted[i]:\n",
    "        print(predicted_svm[i], predicted[i], y_test.iloc[i], X_test.iloc[i], '\\n\\n\\n')"
   ]
  },
  {
   "cell_type": "code",
   "execution_count": 13,
   "metadata": {},
   "outputs": [
    {
     "name": "stdout",
     "output_type": "stream",
     "text": [
      "NB results:\n",
      "precision: 0.9454554131989491\n",
      "recall: 0.9460626472729067\n",
      "fscore: 0.9454875439542538 \n",
      "\n",
      "SVM results:\n",
      "precision: 0.9543419124967573\n",
      "recall: 0.9516266331100337\n",
      "fscore: 0.9523506596317657 \n",
      "\n",
      "NBSVM results:\n",
      "precision: 0.9547937898922034\n",
      "recall: 0.9549329484190138\n",
      "fscore: 0.9548559200820541\n"
     ]
    }
   ],
   "source": [
    "precision, recall, fscore, support = score(y_test, predicted, average='weighted')\n",
    "\n",
    "print('NB results:')\n",
    "print('precision: {}'.format(precision))\n",
    "print('recall: {}'.format(recall))\n",
    "print('fscore: {}'.format(fscore), '\\n')\n",
    "\n",
    "precision, recall, fscore, support = score(y_test, predicted_svm, average='weighted')\n",
    "\n",
    "print('SVM results:')\n",
    "print('precision: {}'.format(precision))\n",
    "print('recall: {}'.format(recall))\n",
    "print('fscore: {}'.format(fscore), '\\n')\n",
    "\n",
    "precision, recall, fscore, support = score(y_test, best_pred, average='weighted')\n",
    "\n",
    "print('NBSVM results:')\n",
    "print('precision: {}'.format(precision))\n",
    "print('recall: {}'.format(recall))\n",
    "print('fscore: {}'.format(fscore))\n"
   ]
  },
  {
   "cell_type": "code",
   "execution_count": 14,
   "metadata": {},
   "outputs": [
    {
     "name": "stdout",
     "output_type": "stream",
     "text": [
      "Average length of incorrect NB prediction: 117.06084172003659\n"
     ]
    }
   ],
   "source": [
    "review_len = 0\n",
    "count_r = 0\n",
    "for i in range(len(predicted)):\n",
    "    if predicted[i] != y_test.iloc[i]:\n",
    "        review_len += len(X_test.iloc[i].split())\n",
    "        count_r += 1\n",
    "        \n",
    "print('Average length of incorrect NB prediction:', review_len/count_r)\n",
    "        "
   ]
  },
  {
   "cell_type": "code",
   "execution_count": 15,
   "metadata": {},
   "outputs": [
    {
     "name": "stdout",
     "output_type": "stream",
     "text": [
      "Average length of incorrect SVM prediction: 117.2257077276205\n"
     ]
    }
   ],
   "source": [
    "review_len = 0\n",
    "count_r = 0\n",
    "for i in range(len(predicted)):\n",
    "    if predicted_svm[i] != y_test.iloc[i]:\n",
    "        review_len += len(X_test.iloc[i].split())\n",
    "        count_r += 1\n",
    "        \n",
    "print('Average length of incorrect SVM prediction:', review_len/count_r)\n"
   ]
  }
 ],
 "metadata": {
  "kernelspec": {
   "display_name": "Python 3",
   "language": "python",
   "name": "python3"
  },
  "language_info": {
   "codemirror_mode": {
    "name": "ipython",
    "version": 3
   },
   "file_extension": ".py",
   "mimetype": "text/x-python",
   "name": "python",
   "nbconvert_exporter": "python",
   "pygments_lexer": "ipython3",
   "version": "3.6.4"
  }
 },
 "nbformat": 4,
 "nbformat_minor": 2
}
