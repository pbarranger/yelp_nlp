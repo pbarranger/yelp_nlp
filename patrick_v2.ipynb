{
 "cells": [
  {
   "cell_type": "code",
   "execution_count": 1,
   "metadata": {},
   "outputs": [],
   "source": [
    "import pandas as pd\n",
    "import numpy as np\n",
    "# import nltk\n",
    "# from nltk.corpus import stopwords\n",
    "from sklearn.naive_bayes import MultinomialNB\n",
    "from sklearn.metrics import accuracy_score\n",
    "from sklearn.model_selection import train_test_split\n",
    "from sklearn.feature_extraction.text import CountVectorizer\n",
    "from sklearn.pipeline import Pipeline\n",
    "from sklearn.linear_model import SGDClassifier\n",
    "from sklearn.feature_extraction.text import TfidfTransformer\n"
   ]
  },
  {
   "cell_type": "code",
   "execution_count": 2,
   "metadata": {},
   "outputs": [],
   "source": [
    "# df = pd.read_csv('../local/az_reduced_reviews.csv')\n",
    "# x_df = df[df.stars != 3]\n",
    "# #ignore warning\n",
    "# x_df['binary_stars'] =  np.where(x_df['stars'] >= 4, 1, 0)\n",
    "# X_train, X_test, y_train, y_test = train_test_split(x_df.text, x_df.binary_stars, test_size=0.50, random_state=42)\n",
    "# result = pd.concat([X_train, y_train], axis=1)\n",
    "# result.to_csv('sub_sample_az.csv', header=['text', 'binary_stars'])"
   ]
  },
  {
   "cell_type": "code",
   "execution_count": 2,
   "metadata": {},
   "outputs": [],
   "source": [
    "x_df = pd.read_csv('sub_sample_az.csv')\n"
   ]
  },
  {
   "cell_type": "code",
   "execution_count": 12,
   "metadata": {},
   "outputs": [],
   "source": [
    "#cat ??? > combined_az.csv"
   ]
  },
  {
   "cell_type": "code",
   "execution_count": 3,
   "metadata": {},
   "outputs": [],
   "source": [
    "testy = pd.read_csv('./split_az/combined_az.csv')"
   ]
  },
  {
   "cell_type": "code",
   "execution_count": 4,
   "metadata": {},
   "outputs": [
    {
     "data": {
      "text/html": [
       "<div>\n",
       "<style scoped>\n",
       "    .dataframe tbody tr th:only-of-type {\n",
       "        vertical-align: middle;\n",
       "    }\n",
       "\n",
       "    .dataframe tbody tr th {\n",
       "        vertical-align: top;\n",
       "    }\n",
       "\n",
       "    .dataframe thead th {\n",
       "        text-align: right;\n",
       "    }\n",
       "</style>\n",
       "<table border=\"1\" class=\"dataframe\">\n",
       "  <thead>\n",
       "    <tr style=\"text-align: right;\">\n",
       "      <th></th>\n",
       "      <th>Unnamed: 0</th>\n",
       "      <th>binary_stars</th>\n",
       "    </tr>\n",
       "  </thead>\n",
       "  <tbody>\n",
       "    <tr>\n",
       "      <th>count</th>\n",
       "      <td>405285.000000</td>\n",
       "      <td>405285.000000</td>\n",
       "    </tr>\n",
       "    <tr>\n",
       "      <th>mean</th>\n",
       "      <td>459190.719025</td>\n",
       "      <td>0.756786</td>\n",
       "    </tr>\n",
       "    <tr>\n",
       "      <th>std</th>\n",
       "      <td>265775.569536</td>\n",
       "      <td>0.429024</td>\n",
       "    </tr>\n",
       "    <tr>\n",
       "      <th>min</th>\n",
       "      <td>1.000000</td>\n",
       "      <td>0.000000</td>\n",
       "    </tr>\n",
       "    <tr>\n",
       "      <th>25%</th>\n",
       "      <td>228710.000000</td>\n",
       "      <td>1.000000</td>\n",
       "    </tr>\n",
       "    <tr>\n",
       "      <th>50%</th>\n",
       "      <td>459016.000000</td>\n",
       "      <td>1.000000</td>\n",
       "    </tr>\n",
       "    <tr>\n",
       "      <th>75%</th>\n",
       "      <td>689207.000000</td>\n",
       "      <td>1.000000</td>\n",
       "    </tr>\n",
       "    <tr>\n",
       "      <th>max</th>\n",
       "      <td>920352.000000</td>\n",
       "      <td>1.000000</td>\n",
       "    </tr>\n",
       "  </tbody>\n",
       "</table>\n",
       "</div>"
      ],
      "text/plain": [
       "          Unnamed: 0   binary_stars\n",
       "count  405285.000000  405285.000000\n",
       "mean   459190.719025       0.756786\n",
       "std    265775.569536       0.429024\n",
       "min         1.000000       0.000000\n",
       "25%    228710.000000       1.000000\n",
       "50%    459016.000000       1.000000\n",
       "75%    689207.000000       1.000000\n",
       "max    920352.000000       1.000000"
      ]
     },
     "execution_count": 4,
     "metadata": {},
     "output_type": "execute_result"
    }
   ],
   "source": [
    "x_df.describe()"
   ]
  },
  {
   "cell_type": "code",
   "execution_count": 9,
   "metadata": {},
   "outputs": [
    {
     "name": "stdout",
     "output_type": "stream",
     "text": [
      "613 YEAH!!!  AGRITOPIA!!!  In case of zombie apocalypse I will be setting up my KINGDOM here. After wandering through BARONE and Joe's and the lines being SUPER long we decided to get a sandwich at the coffee shop.  Awesome and cute little place, GREAT CUPCAKES!!  Me and my daughter split the veggie wrap and a couple of beverages from the cooler. I loved the place. They had a great pesto aioli on the wrap that we were scooping up with our chips. ONE SUGGESTION.......with such a great menu, I think they could step up the wrap selection instead of using a plain ol tortilla, I think you guys are better than that.\n"
     ]
    }
   ],
   "source": [
    "print(len(x_df.iloc[0][1]), x_df.iloc[0][1])"
   ]
  },
  {
   "cell_type": "code",
   "execution_count": 8,
   "metadata": {},
   "outputs": [
    {
     "name": "stdout",
     "output_type": "stream",
     "text": [
      "ok \n",
      "\n",
      "The Dank \n",
      "\n",
      ":) \n",
      "\n",
      "Neither \n",
      "\n",
      "No \n",
      "\n",
      "Fast? \n",
      "\n",
      "Dank \n",
      "\n",
      "No \n",
      "\n",
      "X \n",
      "\n"
     ]
    }
   ],
   "source": [
    "x_df['txt_length'] = x_df['text'].apply(len)\n",
    "\n",
    "for i in range(len(x_df)):\n",
    "    if x_df.txt_length[i] < 10:\n",
    "        print(x_df.text[i], '\\n')"
   ]
  },
  {
   "cell_type": "code",
   "execution_count": 55,
   "metadata": {},
   "outputs": [
    {
     "data": {
      "text/plain": [
       "613"
      ]
     },
     "execution_count": 55,
     "metadata": {},
     "output_type": "execute_result"
    }
   ],
   "source": []
  },
  {
   "cell_type": "code",
   "execution_count": 50,
   "metadata": {},
   "outputs": [
    {
     "data": {
      "text/plain": [
       "14493"
      ]
     },
     "execution_count": 50,
     "metadata": {},
     "output_type": "execute_result"
    }
   ],
   "source": [
    "x_df.txt_length[x_df.txt_length < 100].count()\n",
    "\n"
   ]
  },
  {
   "cell_type": "code",
   "execution_count": 45,
   "metadata": {},
   "outputs": [
    {
     "data": {
      "text/plain": [
       "(array([1.6584e+04, 7.7743e+04, 7.0274e+04, 5.3855e+04, 3.9937e+04,\n",
       "        3.0071e+04, 2.3125e+04, 1.8261e+04, 1.4004e+04, 1.1043e+04,\n",
       "        8.8340e+03, 7.1390e+03, 5.7850e+03, 4.7270e+03, 3.9080e+03,\n",
       "        3.2240e+03, 2.5670e+03, 2.1440e+03, 1.7710e+03, 1.5470e+03,\n",
       "        1.2820e+03, 1.0560e+03, 8.3600e+02, 7.2800e+02, 6.1300e+02,\n",
       "        5.5700e+02, 4.5700e+02, 4.0300e+02, 3.8500e+02, 3.0600e+02,\n",
       "        2.5000e+02, 2.2300e+02, 1.8800e+02, 1.7000e+02, 1.5500e+02,\n",
       "        1.3000e+02, 1.0600e+02, 8.0000e+01, 1.0100e+02, 8.3000e+01,\n",
       "        6.9000e+01, 6.5000e+01, 5.7000e+01, 5.4000e+01, 4.5000e+01,\n",
       "        5.2000e+01, 4.1000e+01, 4.0000e+01, 5.9000e+01, 1.5100e+02]),\n",
       " array([1.00000e+00, 1.02020e+02, 2.03040e+02, 3.04060e+02, 4.05080e+02,\n",
       "        5.06100e+02, 6.07120e+02, 7.08140e+02, 8.09160e+02, 9.10180e+02,\n",
       "        1.01120e+03, 1.11222e+03, 1.21324e+03, 1.31426e+03, 1.41528e+03,\n",
       "        1.51630e+03, 1.61732e+03, 1.71834e+03, 1.81936e+03, 1.92038e+03,\n",
       "        2.02140e+03, 2.12242e+03, 2.22344e+03, 2.32446e+03, 2.42548e+03,\n",
       "        2.52650e+03, 2.62752e+03, 2.72854e+03, 2.82956e+03, 2.93058e+03,\n",
       "        3.03160e+03, 3.13262e+03, 3.23364e+03, 3.33466e+03, 3.43568e+03,\n",
       "        3.53670e+03, 3.63772e+03, 3.73874e+03, 3.83976e+03, 3.94078e+03,\n",
       "        4.04180e+03, 4.14282e+03, 4.24384e+03, 4.34486e+03, 4.44588e+03,\n",
       "        4.54690e+03, 4.64792e+03, 4.74894e+03, 4.84996e+03, 4.95098e+03,\n",
       "        5.05200e+03]),\n",
       " <a list of 50 Patch objects>)"
      ]
     },
     "execution_count": 45,
     "metadata": {},
     "output_type": "execute_result"
    },
    {
     "data": {
      "image/png": "[encoded data removed]",
      "text/plain": [
       "<matplotlib.figure.Figure at 0x7f0ba04d96a0>"
      ]
     },
     "metadata": {},
     "output_type": "display_data"
    }
   ],
   "source": [
    "import matplotlib.pyplot as plt\n",
    "\n",
    "plt.hist(x_df.txt_length, bins=50)"
   ]
  },
  {
   "cell_type": "code",
   "execution_count": 3,
   "metadata": {},
   "outputs": [],
   "source": [
    "#Split the data\n",
    "X_train, X_test, y_train, y_test = train_test_split(x_df.text, x_df.binary_stars, test_size=0.20, random_state=42)"
   ]
  },
  {
   "cell_type": "code",
   "execution_count": 4,
   "metadata": {},
   "outputs": [
    {
     "data": {
      "text/plain": [
       "0.9268786162823692"
      ]
     },
     "execution_count": 4,
     "metadata": {},
     "output_type": "execute_result"
    }
   ],
   "source": [
    "#quick pipeline to show best performing nb\n",
    "\n",
    "text_clf = Pipeline([('vect', CountVectorizer(stop_words='english', min_df=5, ngram_range=(1, 2))),\n",
    "                     ('tfidf', TfidfTransformer()),  \n",
    "                     ('clf', MultinomialNB()),\n",
    "                    ])\n",
    "text_clf = text_clf.fit(X_train, y_train)\n",
    "predicted = text_clf.predict(X_test)\n",
    "np.mean(predicted == y_test)\n",
    "\n",
    "# 92.68% CountVectorizer(stop_words='english', min_df=5, ngram_range=(1, 2))\n",
    "# 94.67% w/ fit prior False\n",
    "# 94.36% w/ alpha = 0.1"
   ]
  },
  {
   "cell_type": "code",
   "execution_count": 5,
   "metadata": {},
   "outputs": [],
   "source": [
    "from sklearn.model_selection import GridSearchCV\n",
    "parameters = {\n",
    "              'clf__alpha': (1e-1, 1e-2, 1e-3),\n",
    "             }\n",
    "\n",
    "gs_clf = GridSearchCV(text_clf, parameters, n_jobs=-1)\n",
    "gs_clf = gs_clf.fit(X_train, y_train)"
   ]
  },
  {
   "cell_type": "code",
   "execution_count": 5,
   "metadata": {},
   "outputs": [],
   "source": [
    "from sklearn.model_selection import GridSearchCV\n",
    "parameters = {'tfidf__use_idf': (True, False),\n",
    "             }\n",
    "\n",
    "gs_clf = GridSearchCV(text_clf, parameters, n_jobs=-1)\n",
    "gs_clf = gs_clf.fit(X_train, y_train)"
   ]
  },
  {
   "cell_type": "code",
   "execution_count": 8,
   "metadata": {},
   "outputs": [
    {
     "data": {
      "text/plain": [
       "{'clf__alpha': 0.1}"
      ]
     },
     "execution_count": 8,
     "metadata": {},
     "output_type": "execute_result"
    }
   ],
   "source": [
    "gs_clf.best_score_\n",
    "gs_clf.best_params_"
   ]
  },
  {
   "cell_type": "code",
   "execution_count": 21,
   "metadata": {},
   "outputs": [
    {
     "name": "stdout",
     "output_type": "stream",
     "text": [
      "1 0 Los meseros les gusta tips. So aqui tengo un tip. Yo ordene mi comida para comer ahi y hasta le dije a la cajera \"esto va hacer para aqui\" me dice \"okay\" me siento y llega la misma mesera y dice \"sorry te lo hicieron para llevar\" me dio la comida y se fue. Yo trabajo para dos restaurantes y cada ves que nos pasa esto a nosotros decimos \"perdon, le voy a decir a un chef que ponga esto en un plato\". Eso es mi tip para ustedes. Por eso no regresaré, por algo chico que muy fácilmente podían arreglar pero no les vale, ni me preguntan \"todo bien?\" \"Lo quieres para aqui?\" \"Te lo arreglamos?\" \"Como esta la comida y su servicio?\" ahora solo ire a TORTAS PAQUIME para comprar mis tortas... \n",
      "\n",
      "\n",
      "\n",
      "0 1 This is my dirty little secret. You can seriously eat your face off for a ridiculously small amount of money. It makes me wonder how they do it. It's a shameful feeling I get inside when I see that I have the highest sushi tower ... until I see it only cost me $12. I literally have never been able to eat more than $15 worth of food at this place, and believe me, I've tried. It's not going to light the world on fire, but it's cheap and fun. Plus, Phoenix has literally zero other options when it comes to conveyor belt sushi. \n",
      "\n",
      "\n",
      "\n",
      "1 0 If you are visiting Lake Pleasant,  skip the Waterfront Grill and go Dillions.  The food at the Waterfront Grill is some of the most overpriced and unappetizing food.  We have had a boat slipped at this Marina for over 8 years.  We always being our own food or go to Dillion's and try to avoid this restaurant.  The portions are small, the presentation is awful and the flavors are non existent.  If you visit the waterfront grill, the pizza is the only item on the menu that is worth ordering.  The atmosphere is great with the views and the service varies by staff and shift.  If you are looking for a good meal,  go to Scorpion Bay and visit  Dillion's.e \n",
      "\n",
      "\n",
      "\n",
      "1 0 Met a friend here yesterday before a movie.  I actually arrived first, around 5:50 pm, told the bartender I was waiting for a friend who was going to join me at a 6:15 pm movie and asked if I could order the Table-side Mozzarella For Two to take with us.  He said there wouldn't be enough time to order the app, but that we could order apps on the happy hour menu list and take those, so I chose the calamari and the meatballs, which were $8 each.  The calamari smelled fishy (not the sea-fresh scent) and had terrible texture, as if it was undercooked. http:\\/\\/www.yelp.com\\/biz_photos\\/tanzy-scottsdale?start=100&select=Kdc4C3svJf6R7QmXrGo5ZQ#Kdc4C3svJf6R7QmXrGo5ZQ  The meatballs were good, albeit on the smallish side**, with a nice dollop of ricotta cheese, but the dish wasn't accompanied by any crostini, unlike my previous orders, which were admittedly a year, or more ago. http:\\/\\/www.yelp.com\\/biz_photos\\/tanzy-scottsdale?start=100&select=nNFXqb2B8vN8envJcgRl7g#nNFXqb2B8vN8envJcgRl7gI  I asked for a little bread, but didn't have time to wait for it as we had to leave for the movie.  \n",
      "\n",
      "Don't know if I'd order the meatballs again, especially since the crostini were omitted, but my friend and I will be back to try the Mozzarella for two soon.\n",
      "\n",
      "**This is what the meatball crostini app looked like in March 2013! http:\\/\\/www.yelp.com\\/biz_photos\\/tanzy-scottsdale?select=9aiYhoNUaF_nJWOkYu-yjg#9aiYhoNUaF_nJWOkYu-yjg\n",
      "\n",
      "#740 \n",
      "\n",
      "\n",
      "\n",
      "1 0 Was visiting south tempe and was looking for mexican food for lunch. Looked for a sit down mexican restaurant on yelp and this came up. It's a fast food place with tables. Mom ordered shredded beef taco and chicken enchilada. Meat in taco was very dry. Enchilada sauce used too many tomatoes so it was acidic. Needed more red chilies. I had a rolled taco plate. It was ok, not bad nor exceptional. If it was a toss up between taco bell or filiberto's, we'll pass on both. \n",
      "\n",
      "\n",
      "\n",
      "0 1 It's a Subway, can't go terribly wrong.\n",
      "\n",
      "What makes this location exceptional? It may sound simple, may sound like \"no big deal\", but, to me, it made a difference. \n",
      "\n",
      "As the lady finished up my 2 footlong sandwiches, she realized these 2 sandwiches were for 4 individual people, she wrapped each 6 inch separately, -AND- wrote \"Dad\" on one, and made the other 3 easily identifiable, too. Very cool. Without being instructed or asked. This lady \"gets it\" :) 5 Star Service right there!! \n",
      "\n",
      "\n",
      "\n",
      "0 1 They do a great job here. They do take a long time but it's worth it. They have good costumer service too. The time I thought something didn't look right they washed it again. It was in the paint. Oh well and not to bad of a price. \n",
      "\n",
      "\n",
      "\n",
      "1 0 I decided to give Bliss\\/reBar a second chance. On my first visit, I ordered the Bliss burger and found the amount of cheese combined with the heaviness of the bun, really over powered the burger itself. So last night, I met a friend for dinner. I started out with a glass of their malbec. I was very impressed with the quality and smoothness of the malbec! We got some Parmesan garlic fries to share. They were just ok. I thought it was strange that they were served with marinara sauce. Next, I ordered the Mac and Cheese with bacon and chicken. It came out piping hot and oozing with cheese. Normally I don't complain about the amount of cheese, but just like the burger I had, both dishes had way too much cheese in comparison the other ingredients. I did however enjoyed the slight spicy kick that the dish had. \n",
      "\n",
      "I guess I would come here again, but it wouldn't be my first choice. \n",
      "\n",
      "\n",
      "\n",
      "1 0 When i arrived I was excited because this place is packed!! However, I left feeling like the food quality and taste was similar to Denny's.  This is a great place to cure a hangover but not the kind of place to go if you like a healthy breakfast. I typically go to Tryst in dessert ridge. Its more organic and fresh.  This place is busy though so to each their own! \n",
      "\n",
      "\n",
      "\n",
      "0 1 Well I tried Thai food for the first time tonight and my first impression was WOW then the bartender opened his mouth!  The dude is a royal first grade prick. I asked for a margarita and asked him if there good and he said well I'm from Dallas, like that real mattered I just wanted to know if my drink was gonna be good. Then I told him I'm a Dallas Cowboy fan and he opens his mouth and says that he can't stand the Cowboys, what I almost fell out of my chair. Really someone from Dallas and their trashing the Cowboys. WOW??!! Then my wife wants to move from the bar to the dining area and he basically tells her in a mean tone well I guess but you will close your tab with me first like we're dumb and don't know that! Then we get to the dining area and the server was very nice and she was very attentive and very helpful with our decision. The food was great and would love to try it again here just hope that Dallas Cowboy hatter that's from Dallas isn't there, cause for someone that is in the food industry he crap at what he does and after how he treated us my wife still tipped him five dollars!!!!!! \n",
      "\n",
      "\n",
      "\n",
      "0 1 Well I have update yet but did I tell you how goid the frizen yogurt is, there are new fkavors daily! \n",
      "\n",
      "\n",
      "\n"
     ]
    }
   ],
   "source": [
    "n=0\n",
    "for i in range(len(predicted)):\n",
    "    if predicted[i] != y_test.iloc[i]:\n",
    "        n += 1\n",
    "        print(predicted[i], y_test.iloc[i], X_test.iloc[i], '\\n\\n\\n')\n",
    "        if n > 10:\n",
    "            break\n",
    "        "
   ]
  },
  {
   "cell_type": "code",
   "execution_count": 23,
   "metadata": {},
   "outputs": [
    {
     "data": {
      "text/plain": [
       "0.9264098103803496"
      ]
     },
     "execution_count": 23,
     "metadata": {},
     "output_type": "execute_result"
    }
   ],
   "source": [
    "#quick pipeline to show best performing nb\n",
    "\n",
    "text_clf = Pipeline([('vect', CountVectorizer(stop_words='english', min_df=5, ngram_range=(2, 2))),\n",
    "                     ('tfidf', TfidfTransformer()),  \n",
    "                     ('clf', MultinomialNB()),\n",
    "                    ])\n",
    "text_clf = text_clf.fit(X_train, y_train)\n",
    "predicted = text_clf.predict(X_test)\n",
    "np.mean(predicted == y_test)\n",
    "\n",
    "# % CountVectorizer(stop_words='english', min_df=5, ngram_range=(2, 2))"
   ]
  },
  {
   "cell_type": "code",
   "execution_count": 7,
   "metadata": {},
   "outputs": [
    {
     "ename": "MemoryError",
     "evalue": "",
     "output_type": "error",
     "traceback": [
      "\u001b[0;31m---------------------------------------------------------------------------\u001b[0m",
      "\u001b[0;31mMemoryError\u001b[0m                               Traceback (most recent call last)",
      "\u001b[0;32m<ipython-input-7-b984acf0ece9>\u001b[0m in \u001b[0;36m<module>\u001b[0;34m()\u001b[0m\n\u001b[1;32m      6\u001b[0m                         ])\n\u001b[1;32m      7\u001b[0m \u001b[0;34m\u001b[0m\u001b[0m\n\u001b[0;32m----> 8\u001b[0;31m \u001b[0mtext_clf_svm\u001b[0m \u001b[0;34m=\u001b[0m \u001b[0mtext_clf_svm\u001b[0m\u001b[0;34m.\u001b[0m\u001b[0mfit\u001b[0m\u001b[0;34m(\u001b[0m\u001b[0mX_train\u001b[0m\u001b[0;34m,\u001b[0m \u001b[0my_train\u001b[0m\u001b[0;34m)\u001b[0m\u001b[0;34m\u001b[0m\u001b[0m\n\u001b[0m\u001b[1;32m      9\u001b[0m \u001b[0mpredicted_svm\u001b[0m \u001b[0;34m=\u001b[0m \u001b[0mtext_clf_svm\u001b[0m\u001b[0;34m.\u001b[0m\u001b[0mpredict\u001b[0m\u001b[0;34m(\u001b[0m\u001b[0mX_test\u001b[0m\u001b[0;34m)\u001b[0m\u001b[0;34m\u001b[0m\u001b[0m\n\u001b[1;32m     10\u001b[0m \u001b[0mnp\u001b[0m\u001b[0;34m.\u001b[0m\u001b[0mmean\u001b[0m\u001b[0;34m(\u001b[0m\u001b[0mpredicted_svm\u001b[0m \u001b[0;34m==\u001b[0m \u001b[0my_test\u001b[0m\u001b[0;34m)\u001b[0m\u001b[0;34m\u001b[0m\u001b[0m\n",
      "\u001b[0;32m~/anaconda3/lib/python3.6/site-packages/sklearn/pipeline.py\u001b[0m in \u001b[0;36mfit\u001b[0;34m(self, X, y, **fit_params)\u001b[0m\n\u001b[1;32m    246\u001b[0m             \u001b[0mThis\u001b[0m \u001b[0mestimator\u001b[0m\u001b[0;34m\u001b[0m\u001b[0m\n\u001b[1;32m    247\u001b[0m         \"\"\"\n\u001b[0;32m--> 248\u001b[0;31m         \u001b[0mXt\u001b[0m\u001b[0;34m,\u001b[0m \u001b[0mfit_params\u001b[0m \u001b[0;34m=\u001b[0m \u001b[0mself\u001b[0m\u001b[0;34m.\u001b[0m\u001b[0m_fit\u001b[0m\u001b[0;34m(\u001b[0m\u001b[0mX\u001b[0m\u001b[0;34m,\u001b[0m \u001b[0my\u001b[0m\u001b[0;34m,\u001b[0m \u001b[0;34m**\u001b[0m\u001b[0mfit_params\u001b[0m\u001b[0;34m)\u001b[0m\u001b[0;34m\u001b[0m\u001b[0m\n\u001b[0m\u001b[1;32m    249\u001b[0m         \u001b[0;32mif\u001b[0m \u001b[0mself\u001b[0m\u001b[0;34m.\u001b[0m\u001b[0m_final_estimator\u001b[0m \u001b[0;32mis\u001b[0m \u001b[0;32mnot\u001b[0m \u001b[0;32mNone\u001b[0m\u001b[0;34m:\u001b[0m\u001b[0;34m\u001b[0m\u001b[0m\n\u001b[1;32m    250\u001b[0m             \u001b[0mself\u001b[0m\u001b[0;34m.\u001b[0m\u001b[0m_final_estimator\u001b[0m\u001b[0;34m.\u001b[0m\u001b[0mfit\u001b[0m\u001b[0;34m(\u001b[0m\u001b[0mXt\u001b[0m\u001b[0;34m,\u001b[0m \u001b[0my\u001b[0m\u001b[0;34m,\u001b[0m \u001b[0;34m**\u001b[0m\u001b[0mfit_params\u001b[0m\u001b[0;34m)\u001b[0m\u001b[0;34m\u001b[0m\u001b[0m\n",
      "\u001b[0;32m~/anaconda3/lib/python3.6/site-packages/sklearn/pipeline.py\u001b[0m in \u001b[0;36m_fit\u001b[0;34m(self, X, y, **fit_params)\u001b[0m\n\u001b[1;32m    211\u001b[0m                 Xt, fitted_transformer = fit_transform_one_cached(\n\u001b[1;32m    212\u001b[0m                     \u001b[0mcloned_transformer\u001b[0m\u001b[0;34m,\u001b[0m \u001b[0;32mNone\u001b[0m\u001b[0;34m,\u001b[0m \u001b[0mXt\u001b[0m\u001b[0;34m,\u001b[0m \u001b[0my\u001b[0m\u001b[0;34m,\u001b[0m\u001b[0;34m\u001b[0m\u001b[0m\n\u001b[0;32m--> 213\u001b[0;31m                     **fit_params_steps[name])\n\u001b[0m\u001b[1;32m    214\u001b[0m                 \u001b[0;31m# Replace the transformer of the step with the fitted\u001b[0m\u001b[0;34m\u001b[0m\u001b[0;34m\u001b[0m\u001b[0m\n\u001b[1;32m    215\u001b[0m                 \u001b[0;31m# transformer. This is necessary when loading the transformer\u001b[0m\u001b[0;34m\u001b[0m\u001b[0;34m\u001b[0m\u001b[0m\n",
      "\u001b[0;32m~/anaconda3/lib/python3.6/site-packages/sklearn/externals/joblib/memory.py\u001b[0m in \u001b[0;36m__call__\u001b[0;34m(self, *args, **kwargs)\u001b[0m\n\u001b[1;32m    360\u001b[0m \u001b[0;34m\u001b[0m\u001b[0m\n\u001b[1;32m    361\u001b[0m     \u001b[0;32mdef\u001b[0m \u001b[0m__call__\u001b[0m\u001b[0;34m(\u001b[0m\u001b[0mself\u001b[0m\u001b[0;34m,\u001b[0m \u001b[0;34m*\u001b[0m\u001b[0margs\u001b[0m\u001b[0;34m,\u001b[0m \u001b[0;34m**\u001b[0m\u001b[0mkwargs\u001b[0m\u001b[0;34m)\u001b[0m\u001b[0;34m:\u001b[0m\u001b[0;34m\u001b[0m\u001b[0m\n\u001b[0;32m--> 362\u001b[0;31m         \u001b[0;32mreturn\u001b[0m \u001b[0mself\u001b[0m\u001b[0;34m.\u001b[0m\u001b[0mfunc\u001b[0m\u001b[0;34m(\u001b[0m\u001b[0;34m*\u001b[0m\u001b[0margs\u001b[0m\u001b[0;34m,\u001b[0m \u001b[0;34m**\u001b[0m\u001b[0mkwargs\u001b[0m\u001b[0;34m)\u001b[0m\u001b[0;34m\u001b[0m\u001b[0m\n\u001b[0m\u001b[1;32m    363\u001b[0m \u001b[0;34m\u001b[0m\u001b[0m\n\u001b[1;32m    364\u001b[0m     \u001b[0;32mdef\u001b[0m \u001b[0mcall_and_shelve\u001b[0m\u001b[0;34m(\u001b[0m\u001b[0mself\u001b[0m\u001b[0;34m,\u001b[0m \u001b[0;34m*\u001b[0m\u001b[0margs\u001b[0m\u001b[0;34m,\u001b[0m \u001b[0;34m**\u001b[0m\u001b[0mkwargs\u001b[0m\u001b[0;34m)\u001b[0m\u001b[0;34m:\u001b[0m\u001b[0;34m\u001b[0m\u001b[0m\n",
      "\u001b[0;32m~/anaconda3/lib/python3.6/site-packages/sklearn/pipeline.py\u001b[0m in \u001b[0;36m_fit_transform_one\u001b[0;34m(transformer, weight, X, y, **fit_params)\u001b[0m\n\u001b[1;32m    579\u001b[0m                        **fit_params):\n\u001b[1;32m    580\u001b[0m     \u001b[0;32mif\u001b[0m \u001b[0mhasattr\u001b[0m\u001b[0;34m(\u001b[0m\u001b[0mtransformer\u001b[0m\u001b[0;34m,\u001b[0m \u001b[0;34m'fit_transform'\u001b[0m\u001b[0;34m)\u001b[0m\u001b[0;34m:\u001b[0m\u001b[0;34m\u001b[0m\u001b[0m\n\u001b[0;32m--> 581\u001b[0;31m         \u001b[0mres\u001b[0m \u001b[0;34m=\u001b[0m \u001b[0mtransformer\u001b[0m\u001b[0;34m.\u001b[0m\u001b[0mfit_transform\u001b[0m\u001b[0;34m(\u001b[0m\u001b[0mX\u001b[0m\u001b[0;34m,\u001b[0m \u001b[0my\u001b[0m\u001b[0;34m,\u001b[0m \u001b[0;34m**\u001b[0m\u001b[0mfit_params\u001b[0m\u001b[0;34m)\u001b[0m\u001b[0;34m\u001b[0m\u001b[0m\n\u001b[0m\u001b[1;32m    582\u001b[0m     \u001b[0;32melse\u001b[0m\u001b[0;34m:\u001b[0m\u001b[0;34m\u001b[0m\u001b[0m\n\u001b[1;32m    583\u001b[0m         \u001b[0mres\u001b[0m \u001b[0;34m=\u001b[0m \u001b[0mtransformer\u001b[0m\u001b[0;34m.\u001b[0m\u001b[0mfit\u001b[0m\u001b[0;34m(\u001b[0m\u001b[0mX\u001b[0m\u001b[0;34m,\u001b[0m \u001b[0my\u001b[0m\u001b[0;34m,\u001b[0m \u001b[0;34m**\u001b[0m\u001b[0mfit_params\u001b[0m\u001b[0;34m)\u001b[0m\u001b[0;34m.\u001b[0m\u001b[0mtransform\u001b[0m\u001b[0;34m(\u001b[0m\u001b[0mX\u001b[0m\u001b[0;34m)\u001b[0m\u001b[0;34m\u001b[0m\u001b[0m\n",
      "\u001b[0;32m~/anaconda3/lib/python3.6/site-packages/sklearn/feature_extraction/text.py\u001b[0m in \u001b[0;36mfit_transform\u001b[0;34m(self, raw_documents, y)\u001b[0m\n\u001b[1;32m    873\u001b[0m \u001b[0;34m\u001b[0m\u001b[0m\n\u001b[1;32m    874\u001b[0m         \u001b[0;32mif\u001b[0m \u001b[0;32mnot\u001b[0m \u001b[0mself\u001b[0m\u001b[0;34m.\u001b[0m\u001b[0mfixed_vocabulary_\u001b[0m\u001b[0;34m:\u001b[0m\u001b[0;34m\u001b[0m\u001b[0m\n\u001b[0;32m--> 875\u001b[0;31m             \u001b[0mX\u001b[0m \u001b[0;34m=\u001b[0m \u001b[0mself\u001b[0m\u001b[0;34m.\u001b[0m\u001b[0m_sort_features\u001b[0m\u001b[0;34m(\u001b[0m\u001b[0mX\u001b[0m\u001b[0;34m,\u001b[0m \u001b[0mvocabulary\u001b[0m\u001b[0;34m)\u001b[0m\u001b[0;34m\u001b[0m\u001b[0m\n\u001b[0m\u001b[1;32m    876\u001b[0m \u001b[0;34m\u001b[0m\u001b[0m\n\u001b[1;32m    877\u001b[0m             \u001b[0mn_doc\u001b[0m \u001b[0;34m=\u001b[0m \u001b[0mX\u001b[0m\u001b[0;34m.\u001b[0m\u001b[0mshape\u001b[0m\u001b[0;34m[\u001b[0m\u001b[0;36m0\u001b[0m\u001b[0;34m]\u001b[0m\u001b[0;34m\u001b[0m\u001b[0m\n",
      "\u001b[0;32m~/anaconda3/lib/python3.6/site-packages/sklearn/feature_extraction/text.py\u001b[0m in \u001b[0;36m_sort_features\u001b[0;34m(self, X, vocabulary)\u001b[0m\n\u001b[1;32m    729\u001b[0m             \u001b[0mmap_index\u001b[0m\u001b[0;34m[\u001b[0m\u001b[0mold_val\u001b[0m\u001b[0;34m]\u001b[0m \u001b[0;34m=\u001b[0m \u001b[0mnew_val\u001b[0m\u001b[0;34m\u001b[0m\u001b[0m\n\u001b[1;32m    730\u001b[0m \u001b[0;34m\u001b[0m\u001b[0m\n\u001b[0;32m--> 731\u001b[0;31m         \u001b[0mX\u001b[0m\u001b[0;34m.\u001b[0m\u001b[0mindices\u001b[0m \u001b[0;34m=\u001b[0m \u001b[0mmap_index\u001b[0m\u001b[0;34m.\u001b[0m\u001b[0mtake\u001b[0m\u001b[0;34m(\u001b[0m\u001b[0mX\u001b[0m\u001b[0;34m.\u001b[0m\u001b[0mindices\u001b[0m\u001b[0;34m,\u001b[0m \u001b[0mmode\u001b[0m\u001b[0;34m=\u001b[0m\u001b[0;34m'clip'\u001b[0m\u001b[0;34m)\u001b[0m\u001b[0;34m\u001b[0m\u001b[0m\n\u001b[0m\u001b[1;32m    732\u001b[0m         \u001b[0;32mreturn\u001b[0m \u001b[0mX\u001b[0m\u001b[0;34m\u001b[0m\u001b[0m\n\u001b[1;32m    733\u001b[0m \u001b[0;34m\u001b[0m\u001b[0m\n",
      "\u001b[0;31mMemoryError\u001b[0m: "
     ]
    }
   ],
   "source": [
    "#quick pipeline to show best performing svm\n",
    "\n",
    "text_clf_svm = Pipeline([('vect', CountVectorizer(stop_words='english', min_df=5, ngram_range=(1, 2))),\n",
    "                         ('tfidf', TfidfTransformer()), \n",
    "                         ('clf-svm', SGDClassifier(loss='modified_huber', class_weight = 'balanced', penalty='l2', alpha=1e-4, max_iter=5, random_state=42)),\n",
    "                        ])\n",
    "\n",
    "text_clf_svm = text_clf_svm.fit(X_train, y_train)\n",
    "predicted_svm = text_clf_svm.predict(X_test)\n",
    "np.mean(predicted_svm == y_test)\n",
    "\n",
    "# 87.87% CountVectorizer(stop_words='english', min_df=5)\n",
    "# 92.3% SGDCClassifier class_weight = 'balanced' loss='hinge'\n",
    "# 93.3% SGDCClassifier class_weight = 'balanced' loss='modified_huber', alpha=1e-3\n",
    "# 95.16% SGDCClassifier class_weight = 'balanced' loss='modified_huber', alpha=1e-4"
   ]
  },
  {
   "cell_type": "code",
   "execution_count": null,
   "metadata": {},
   "outputs": [],
   "source": [
    "from sklearn.model_selection import GridSearchCV\n",
    "parameters_svm = {'clf-svm__alpha': (1, 0.1, 1e-2),\n",
    "                 }\n",
    "gs_clf_svm = GridSearchCV(text_clf_svm, parameters_svm, n_jobs=-1)\n",
    "gs_clf_svm = gs_clf_svm.fit(X_train, y_train)\n"
   ]
  },
  {
   "cell_type": "code",
   "execution_count": 18,
   "metadata": {},
   "outputs": [
    {
     "data": {
      "text/plain": [
       "<bound method BaseEstimator.get_params of GridSearchCV(cv=None, error_score='raise',\n",
       "       estimator=Pipeline(memory=None,\n",
       "     steps=[('vect', CountVectorizer(analyzer='word', binary=False, decode_error='strict',\n",
       "        dtype=<class 'numpy.int64'>, encoding='utf-8', input='content',\n",
       "        lowercase=True, max_df=1.0, max_features=None, min_df=5,\n",
       "        ngram_range=(1, 2), preprocessor=None, stop_words='english',\n",
       "        ...ty='l2', power_t=0.5, random_state=42,\n",
       "       shuffle=True, tol=None, verbose=0, warm_start=False))]),\n",
       "       fit_params=None, iid=True, n_jobs=-1,\n",
       "       param_grid={'clf-svm__alpha': (1, 0.1, 0.01)},\n",
       "       pre_dispatch='2*n_jobs', refit=True, return_train_score='warn',\n",
       "       scoring=None, verbose=0)>"
      ]
     },
     "execution_count": 18,
     "metadata": {},
     "output_type": "execute_result"
    }
   ],
   "source": [
    "gs_clf_svm.get_params\n",
    "# gs_clf_svm.best_params_"
   ]
  },
  {
   "cell_type": "code",
   "execution_count": 9,
   "metadata": {},
   "outputs": [
    {
     "name": "stdout",
     "output_type": "stream",
     "text": [
      "121.29207232267038\n"
     ]
    }
   ],
   "source": [
    "review_len = 0\n",
    "count_r = 0\n",
    "for i in range(len(predicted)):\n",
    "    if predicted[i] != y_test.iloc[i]:\n",
    "        review_len += len(X_test.iloc[i].split())\n",
    "        count_r += 1\n",
    "        \n",
    "print(review_len/count_r)\n",
    "        "
   ]
  },
  {
   "cell_type": "code",
   "execution_count": 10,
   "metadata": {},
   "outputs": [
    {
     "name": "stdout",
     "output_type": "stream",
     "text": [
      "117.2257077276205\n"
     ]
    }
   ],
   "source": [
    "review_len = 0\n",
    "count_r = 0\n",
    "for i in range(len(predicted)):\n",
    "    if predicted_svm[i] != y_test.iloc[i]:\n",
    "        review_len += len(X_test.iloc[i].split())\n",
    "        count_r += 1\n",
    "        \n",
    "print(review_len/count_r)"
   ]
  },
  {
   "cell_type": "code",
   "execution_count": 16,
   "metadata": {},
   "outputs": [],
   "source": [
    "review_len = []\n",
    "for i in range(len(predicted)):\n",
    "    if predicted[i] != y_test.iloc[i]:\n",
    "        review_len.append(len(X_test.iloc[i].split()))\n",
    "\n",
    "        "
   ]
  },
  {
   "cell_type": "code",
   "execution_count": 21,
   "metadata": {},
   "outputs": [],
   "source": [
    "svm_review_len = []\n",
    "for i in range(len(predicted)):\n",
    "    if predicted_svm[i] != y_test.iloc[i]:\n",
    "        svm_review_len.append(len(X_test.iloc[i].split()))\n"
   ]
  },
  {
   "cell_type": "code",
   "execution_count": 25,
   "metadata": {},
   "outputs": [
    {
     "data": {
      "text/plain": [
       "1"
      ]
     },
     "execution_count": 25,
     "metadata": {},
     "output_type": "execute_result"
    }
   ],
   "source": [
    "np.min(review_len)"
   ]
  },
  {
   "cell_type": "code",
   "execution_count": 26,
   "metadata": {},
   "outputs": [
    {
     "data": {
      "text/plain": [
       "1"
      ]
     },
     "execution_count": 26,
     "metadata": {},
     "output_type": "execute_result"
    }
   ],
   "source": [
    "np.min(svm_review_len)"
   ]
  },
  {
   "cell_type": "code",
   "execution_count": 15,
   "metadata": {},
   "outputs": [
    {
     "name": "stdout",
     "output_type": "stream",
     "text": [
      "98.72020923547628\n"
     ]
    }
   ],
   "source": [
    "review_len = 0\n",
    "count_r = 0\n",
    "for i in range(len(predicted)):\n",
    "    review_len += len(X_test.iloc[i].split())\n",
    "    count_r += 1\n",
    "        \n",
    "print(review_len/count_r)"
   ]
  },
  {
   "cell_type": "code",
   "execution_count": 49,
   "metadata": {},
   "outputs": [],
   "source": [
    "nb_pred_prob = text_clf.predict_proba(X_test)\n",
    "svm_pred_prob = text_clf_svm.predict_proba(X_test)"
   ]
  },
  {
   "cell_type": "code",
   "execution_count": 50,
   "metadata": {},
   "outputs": [
    {
     "name": "stdout",
     "output_type": "stream",
     "text": [
      "[0.25970701 0.74029299]\n",
      "0.7402929904746972\n",
      "1\n",
      "[0.47710346 0.52289654]\n",
      "0.5228965426053269\n",
      "1\n"
     ]
    }
   ],
   "source": [
    "print(nb_pred_prob[0])\n",
    "print(max(nb_pred_prob[0]))\n",
    "print(predicted[0])\n",
    "print(svm_pred_prob[0])\n",
    "print(max(svm_pred_prob[0]))\n",
    "print(predicted_svm[0])"
   ]
  },
  {
   "cell_type": "code",
   "execution_count": 7,
   "metadata": {},
   "outputs": [],
   "source": [
    "nb_pred_prob = text_clf.predict_proba(X_test)\n",
    "svm_pred_prob = text_clf_svm.predict_proba(X_test)\n",
    "\n",
    "best_pred = []\n",
    "for i in range(len(predicted)):\n",
    "    if max(svm_pred_prob[i]) > max(nb_pred_prob[i]):\n",
    "        best_pred.append(predicted_svm[i])\n",
    "    else:\n",
    "        best_pred.append(predicted[i])\n",
    "\n"
   ]
  },
  {
   "cell_type": "code",
   "execution_count": 8,
   "metadata": {},
   "outputs": [
    {
     "data": {
      "text/plain": [
       "0.9541803915762982"
      ]
     },
     "execution_count": 8,
     "metadata": {},
     "output_type": "execute_result"
    }
   ],
   "source": [
    "np.mean(best_pred == y_test)\n"
   ]
  },
  {
   "cell_type": "code",
   "execution_count": 25,
   "metadata": {},
   "outputs": [
    {
     "name": "stdout",
     "output_type": "stream",
     "text": [
      "0 1 We've have been looking for a favorite Mexican restaurant since moving to AZ.  One visit and this place looks promising.  We went on a busy Friday night.  Had to wait a while and as we spoke with the other people waiting, they were all long time patrons.  Another very promising sign.  We were seated in the bar at a cozy booth and were served drinks, chips and salsa with beans right away.  We ordered and the food arrived pretty quickly.  We never had to ask for refills, the drinks just kept being refilled and they checked back often to see if we needed anything.  It was a great service experience and the food was very good. \n",
      "\n",
      "\n",
      "\n",
      "1 0 Los meseros les gusta tips. So aqui tengo un tip. Yo ordene mi comida para comer ahi y hasta le dije a la cajera \"esto va hacer para aqui\" me dice \"okay\" me siento y llega la misma mesera y dice \"sorry te lo hicieron para llevar\" me dio la comida y se fue. Yo trabajo para dos restaurantes y cada ves que nos pasa esto a nosotros decimos \"perdon, le voy a decir a un chef que ponga esto en un plato\". Eso es mi tip para ustedes. Por eso no regresaré, por algo chico que muy fácilmente podían arreglar pero no les vale, ni me preguntan \"todo bien?\" \"Lo quieres para aqui?\" \"Te lo arreglamos?\" \"Como esta la comida y su servicio?\" ahora solo ire a TORTAS PAQUIME para comprar mis tortas... \n",
      "\n",
      "\n",
      "\n",
      "0 1 I ate here on two occasions. The first time I had the pizza and it wasn't quite the flavor that I was expecting. On the second occasion I had the fettuccine Alfredo with rotisserie chicken and it blew my mind. The portions are small just as you may expect at a fancy dining establishment. The flavor however was unbelievable. Highly recommend. \n",
      "\n",
      "\n",
      "\n",
      "0 1 This is my dirty little secret. You can seriously eat your face off for a ridiculously small amount of money. It makes me wonder how they do it. It's a shameful feeling I get inside when I see that I have the highest sushi tower ... until I see it only cost me $12. I literally have never been able to eat more than $15 worth of food at this place, and believe me, I've tried. It's not going to light the world on fire, but it's cheap and fun. Plus, Phoenix has literally zero other options when it comes to conveyor belt sushi. \n",
      "\n",
      "\n",
      "\n",
      "1 0 If you are visiting Lake Pleasant,  skip the Waterfront Grill and go Dillions.  The food at the Waterfront Grill is some of the most overpriced and unappetizing food.  We have had a boat slipped at this Marina for over 8 years.  We always being our own food or go to Dillion's and try to avoid this restaurant.  The portions are small, the presentation is awful and the flavors are non existent.  If you visit the waterfront grill, the pizza is the only item on the menu that is worth ordering.  The atmosphere is great with the views and the service varies by staff and shift.  If you are looking for a good meal,  go to Scorpion Bay and visit  Dillion's.e \n",
      "\n",
      "\n",
      "\n",
      "0 1 I really dig this place.  I would give it five stars but the food is very good but never hits excellent.  Also my last trip there which was a few days ago, I had the pleasure of starring at some dudes ass crack who was sitting in front of me at the bar.  Not Oregano's fault.  But still there was some middle aged wanna be hipster with 1980's grunge greasy long hair. Anyway on to the food. \n",
      "Lately I have been ordering the Pablo Picasso Hispanic Orientated salad.  I have been dieting, a little on the \"fat\" side lately. Sometimes I get two bear claws wedged right in this spot.  After some research I found without the dressing and corn chips it is not to bad on the calorie intake.  Also the flavor really is excellent, the chicken is super well done.  It is fajita style but maybe better. \n",
      "Also note to one bartender stop charging me for soda water with a small amount of lemonade and I will tip much better.  \n",
      "Oregano's I will see you soon. \n",
      "\n",
      "\n",
      "\n",
      "0 1 I was a little hesitant of Wolfley's based on the number of five star reviews they have from yelp newbies, but it was definitely worth eating here.\n",
      "\n",
      "We were both hungry and after a tiring business trip I didn't want to cook. Wolfley's was new so why not give it a try.\n",
      "\n",
      "The hostess was pleasant and we were seated right away. The server acknowledged us shortly after being seated and took our drink orders. Had I not been dead tired, I would have tried one of the Happy Hour drink specials. I guess I'll have to save that for another time.\n",
      "\n",
      "My partner ordered an Italian Grinder with Baked Beans as his side item. I opted for a burger knowing it was a Sports Bar and even though they have a plethora of items on the menu it doesn't mean they'll all be good. For my side I had the garlic mashed potatoes. According to my partner the grinder wasn't so good (I could have told him not to order it), but my burger was very tasty. The mashed potatoes were okay, but overall I'm a fan. \n",
      "\n",
      "I did notice a healthy beer selection, contrary to other reviews. Trust me, I notice stuff like that. \n",
      "\n",
      "For Desert Ridge Marketplace Wolfley's is welcome addition. Perfect? No. Pretty Good, Yes! And so much better than most of the competition in the mall. \n",
      "\n",
      "\n",
      "\n",
      "0 1 Upon being seated as a party of five, we were promptly served water and their excellent homemade bread. Time ticked by and it appeared as though we may had been forgotten. Fortunately we were able to snag the attention of the water waiter to let him know that after 15 minutes we had yet to see our actual server. After a few awkward moments we had drinks in our hand, mine being the Rum Old Fashioned which turned out to be damn strong, just how I like it. Having just golfed 18 at the TPC Stadium course our appetite's were primed so we ordered all at once. I chose the Rainbow Tropical Roll with a side of the Pork Belly Mac and Cheese which was flavorful, a bit heavy but the the pork was absolutely marvelous! I would give the Roll a B+ as I've had better Sushi but the presentation was top notch. Other members of the table ordered the Brussel's Sprouts with Peanuts and the Scallops with Pork Belly which definitely pleased everyone at the table. Having said that, my next visit would definitely include anything to do with the Pork Belly-tender, juicy, tons of flavor and not a hint of dryness. This was our first visit and despite the hiccup on initial service, they really picked up the pace and took grade-A care of the entire table. \n",
      "\n",
      "\n",
      "\n",
      "0 1 It's a Subway, can't go terribly wrong.\n",
      "\n",
      "What makes this location exceptional? It may sound simple, may sound like \"no big deal\", but, to me, it made a difference. \n",
      "\n",
      "As the lady finished up my 2 footlong sandwiches, she realized these 2 sandwiches were for 4 individual people, she wrapped each 6 inch separately, -AND- wrote \"Dad\" on one, and made the other 3 easily identifiable, too. Very cool. Without being instructed or asked. This lady \"gets it\" :) 5 Star Service right there!! \n",
      "\n",
      "\n",
      "\n",
      "0 1 They do a great job here. They do take a long time but it's worth it. They have good costumer service too. The time I thought something didn't look right they washed it again. It was in the paint. Oh well and not to bad of a price. \n",
      "\n",
      "\n",
      "\n",
      "0 1 I love your honey latte, but I won't be able to come anymore because you have no parking and I got a $50 parking ticket for going in to have coffee when my meter was 5 minutes over.  Can you work with the City of Phoenix to get parking or meters with credit card swipes? \n",
      "\n",
      "\n",
      "\n"
     ]
    }
   ],
   "source": [
    "n=0\n",
    "# while n<5:\n",
    "for i in range(len(predicted_svm)):\n",
    "    if predicted_svm[i] != y_test.iloc[i]:\n",
    "        n += 1\n",
    "        print(predicted_svm[i], y_test.iloc[i], X_test.iloc[i], '\\n\\n\\n')\n",
    "        if n > 10:\n",
    "            break"
   ]
  },
  {
   "cell_type": "code",
   "execution_count": 31,
   "metadata": {},
   "outputs": [
    {
     "name": "stdout",
     "output_type": "stream",
     "text": [
      "0.9466540787752862\n",
      "0.9246250027519819\n"
     ]
    }
   ],
   "source": [
    "from sklearn.metrics import f1_score\n",
    "\n",
    "print(f1_score(y_test, predicted, average='weighted'))\n",
    "print(f1_score(y_test, predicted_svm, average='weighted'))"
   ]
  },
  {
   "cell_type": "code",
   "execution_count": 25,
   "metadata": {},
   "outputs": [
    {
     "name": "stdout",
     "output_type": "stream",
     "text": [
      "0.8911035931036251\n",
      "0.9364841597319095\n",
      "0.8611040694807633\n"
     ]
    }
   ],
   "source": [
    "from sklearn.metrics import accuracy_score, f1_score, precision_score, recall_score, classification_report, confusion_matrix\n",
    "\n",
    "print(f1_score(y_test, predicted, average=\"macro\"))\n",
    "print(precision_score(y_test, predicted, average=\"macro\"))\n",
    "print(recall_score(y_test, predicted, average=\"macro\"))"
   ]
  },
  {
   "cell_type": "code",
   "execution_count": 32,
   "metadata": {},
   "outputs": [
    {
     "name": "stdout",
     "output_type": "stream",
     "text": [
      "precision: 0.9465571766600978\n",
      "recall: 0.9467781931233576\n",
      "fscore: 0.9466540787752862\n",
      "support: None\n"
     ]
    }
   ],
   "source": [
    "from sklearn.metrics import precision_recall_fscore_support as score\n",
    "\n",
    "\n",
    "precision, recall, fscore, support = score(y_test, predicted, average='weighted')\n",
    "\n",
    "print('precision: {}'.format(precision))\n",
    "print('recall: {}'.format(recall))\n",
    "print('fscore: {}'.format(fscore))\n",
    "print('support: {}'.format(support))"
   ]
  },
  {
   "cell_type": "code",
   "execution_count": 33,
   "metadata": {},
   "outputs": [
    {
     "name": "stdout",
     "output_type": "stream",
     "text": [
      "precision: 0.9284852620743609\n",
      "recall: 0.9230664840791049\n",
      "fscore: 0.9246250027519819\n",
      "support: None\n"
     ]
    }
   ],
   "source": [
    "precision, recall, fscore, support = score(y_test, predicted_svm, average='weighted')\n",
    "\n",
    "print('precision: {}'.format(precision))\n",
    "print('recall: {}'.format(recall))\n",
    "print('fscore: {}'.format(fscore))\n",
    "print('support: {}'.format(support))"
   ]
  },
  {
   "cell_type": "code",
   "execution_count": 57,
   "metadata": {},
   "outputs": [
    {
     "name": "stdout",
     "output_type": "stream",
     "text": [
      "precision: 0.9487485860224252\n",
      "recall: 0.9483449917958967\n",
      "fscore: 0.9485177491432579\n",
      "support: None\n"
     ]
    }
   ],
   "source": [
    "precision, recall, fscore, support = score(y_test, best_pred, average='weighted')\n",
    "\n",
    "print('precision: {}'.format(precision))\n",
    "print('recall: {}'.format(recall))\n",
    "print('fscore: {}'.format(fscore))\n",
    "print('support: {}'.format(support))"
   ]
  },
  {
   "cell_type": "code",
   "execution_count": 34,
   "metadata": {},
   "outputs": [
    {
     "name": "stdout",
     "output_type": "stream",
     "text": [
      "precision: [0.80171024 0.96922736]\n",
      "recall: [0.90833925 0.92779942]\n",
      "fscore: [0.85170036 0.94806103]\n",
      "support: [19714 61343]\n"
     ]
    }
   ],
   "source": [
    "precision, recall, fscore, support = score(y_test, predicted_svm)\n",
    "\n",
    "print('precision: {}'.format(precision))\n",
    "print('recall: {}'.format(recall))\n",
    "print('fscore: {}'.format(fscore))\n",
    "print('support: {}'.format(support))"
   ]
  },
  {
   "cell_type": "code",
   "execution_count": null,
   "metadata": {},
   "outputs": [],
   "source": [
    "from sklearn.feature_extraction.text import TfidfVectorizer\n",
    "\n",
    "tvec = TfidfVectorizer(max_features=100000,ngram_range=(1, 3))\n",
    "x_train_tfidf = tvec.fit_transform(X_train)"
   ]
  },
  {
   "cell_type": "code",
   "execution_count": null,
   "metadata": {},
   "outputs": [],
   "source": [
    "\n",
    "def batch_generator(X_data, y_data, batch_size):\n",
    "    samples_per_epoch = X_data.shape[0]\n",
    "    number_of_batches = samples_per_epoch/batch_size\n",
    "    counter=0\n",
    "    index = np.arange(np.shape(y_data)[0])\n",
    "    while 1:\n",
    "        index_batch = index[batch_size*counter:batch_size*(counter+1)]\n",
    "        X_batch = X_data[index_batch,:].toarray()\n",
    "        y_batch = y_data[y_data.index[index_batch]]\n",
    "        counter += 1\n",
    "        yield X_batch,y_batch\n",
    "        if (counter > number_of_batches):\n",
    "            counter=0\n",
    "            \n",
    "model = Sequential()\n",
    "model.add(Dense(64, activation='relu', input_dim=100000))\n",
    "model.add(Dense(1, activation='sigmoid'))\n",
    "model.compile(optimizer='adam',\n",
    "              loss='binary_crossentropy',\n",
    "              metrics=['accuracy'])\n",
    "\n",
    "model.fit_generator(generator=batch_generator(x_train_tfidf, y_train, 32),\n",
    "                    epochs=5, validation_data=(X_test, y_test),\n",
    "                    steps_per_epoch=x_train_tfidf.shape[0]/32)\n"
   ]
  }
 ],
 "metadata": {
  "kernelspec": {
   "display_name": "Python 3",
   "language": "python",
   "name": "python3"
  },
  "language_info": {
   "codemirror_mode": {
    "name": "ipython",
    "version": 3
   },
   "file_extension": ".py",
   "mimetype": "text/x-python",
   "name": "python",
   "nbconvert_exporter": "python",
   "pygments_lexer": "ipython3",
   "version": "3.6.4"
  }
 },
 "nbformat": 4,
 "nbformat_minor": 2
}
